{
 "cells": [
  {
   "cell_type": "markdown",
   "metadata": {},
   "source": [
    "# Machine learning using EKF"
   ]
  },
  {
   "cell_type": "code",
   "execution_count": 6,
   "metadata": {},
   "outputs": [],
   "source": [
    "from IPython import display\n",
    "import os\n",
    "import random\n",
    "import numpy as np\n",
    "import matplotlib.pyplot as plt\n",
    "%matplotlib inline\n",
    "import pandas as pd\n",
    "from sklearn.model_selection import train_test_split\n",
    "import seaborn as sns\n",
    "from load import load_abalone_data,load_bikes_data\n",
    "# Importing Pytorch libraries\n",
    "import torch\n",
    "import torch.nn as nn\n",
    "import torch.nn.functional as F\n",
    "from  sklearn.datasets import make_regression\n",
    "from sklearn.datasets import load_boston\n",
    "from tqdm import tqdm \n",
    "from sklearn.metrics import mean_absolute_error,mean_squared_error"
   ]
  },
  {
   "cell_type": "code",
   "execution_count": 7,
   "metadata": {},
   "outputs": [
    {
     "name": "stdout",
     "output_type": "stream",
     "text": [
      "cpu\n"
     ]
    }
   ],
   "source": [
    "# Select device which you are going to use for training\n",
    "# device = torch.device(\"cuda:0\" if torch.cuda.is_available() else \"cpu\")\n",
    "device = torch.device(\"cpu\")\n",
    "print(device)"
   ]
  },
  {
   "cell_type": "markdown",
   "metadata": {},
   "source": [
    "### Import Data Sets\n",
    "Testing using a toy sine data"
   ]
  },
  {
   "cell_type": "code",
   "execution_count": 36,
   "metadata": {},
   "outputs": [
    {
     "name": "stdout",
     "output_type": "stream",
     "text": [
      "(17379,)\n",
      "(17379, 14)\n"
     ]
    }
   ],
   "source": [
    "X,y = load_bikes_data()\n",
    "print(y.shape)\n",
    "print(X.shape)"
   ]
  },
  {
   "cell_type": "markdown",
   "metadata": {},
   "source": [
    "## Data Partition\n"
   ]
  },
  {
   "cell_type": "code",
   "execution_count": 37,
   "metadata": {},
   "outputs": [],
   "source": [
    "from sklearn.preprocessing import MinMaxScaler\n",
    "\n",
    "scaler = MinMaxScaler()\n",
    "\n",
    "X_scaled = scaler.fit_transform(X)"
   ]
  },
  {
   "cell_type": "code",
   "execution_count": 38,
   "metadata": {},
   "outputs": [
    {
     "name": "stdout",
     "output_type": "stream",
     "text": [
      "(8689, 14)\n",
      "(4345, 14)\n",
      "(4345, 14)\n"
     ]
    }
   ],
   "source": [
    "from sklearn.model_selection import train_test_split\n",
    "\n",
    "X_train, X_test, y_train, y_test = train_test_split(X_scaled,y,test_size=.5)\n",
    "X_val,X_test, y_val,y_test = train_test_split(X_test,y_test,test_size=0.5)\n",
    "print(X_train.shape)\n",
    "print(X_val.shape)\n",
    "print(X_test.shape)\n",
    "\n",
    "# x_train_scaled = scaler.fit_transform(x_train)\n",
    "# x_test_scaled = scaler.transform(x_test)"
   ]
  },
  {
   "cell_type": "markdown",
   "metadata": {},
   "source": [
    "## Define Neural network"
   ]
  },
  {
   "cell_type": "code",
   "execution_count": 39,
   "metadata": {},
   "outputs": [],
   "source": [
    "class MLP(nn.Module):\n",
    "    def __init__(self, n_inputs, n_hidden_layer, n_outputs,bias=True):\n",
    "        super(MLP, self).__init__()\n",
    "        # YOUR CODE HERE\n",
    "        #raise NotImplementedError()\n",
    "        self.fc1 = nn.Linear(n_inputs, n_hidden_layer, bias)\n",
    "        self.fc2 = nn.Linear(n_hidden_layer, n_hidden_layer, bias)\n",
    "        #self.fc3 = nn.Linear(n_hidden_layer, n_hidden_layer, bias)\n",
    "        self.fc4 = nn.Linear(n_hidden_layer, n_outputs, bias)\n",
    "        \n",
    "\n",
    "    def forward(self, x):\n",
    "        # YOUR CODE HERE\n",
    "        #raise NotImplementedError()\n",
    "        x = torch.sigmoid(self.fc1(x))\n",
    "        x = torch.sigmoid(self.fc2(x))\n",
    "        #x = torch.tanh(self.fc3(x))\n",
    "        x = self.fc4(x)\n",
    "        return x    "
   ]
  },
  {
   "cell_type": "markdown",
   "metadata": {},
   "source": [
    "## Using EKF for learning "
   ]
  },
  {
   "cell_type": "code",
   "execution_count": 40,
   "metadata": {},
   "outputs": [],
   "source": [
    "  \n",
    "def getWeights(net):\n",
    "    weight_mat = []\n",
    "    for name,param in net.named_parameters():\n",
    "        if (len(list(param.data.shape)) == 2):\n",
    "            weight_mat.append(param.data.flatten())\n",
    "        \n",
    "    weight_mat = torch.cat(weight_mat, dim=0)       \n",
    "    return weight_mat.view(-1, 1)\n",
    "\n",
    "def getWeightsgrad(net):\n",
    "    weight_grad_mat = []\n",
    "    for name,param in net.named_parameters():\n",
    "        if (len(list(param.grad.shape)) == 2):\n",
    "            weight_grad_mat.append(param.grad.flatten())\n",
    "    weight_grad_mat = torch.cat(weight_grad_mat)       \n",
    "    return weight_grad_mat.view(-1, 1)\n",
    "\n",
    "def setWeights(net, weight_mat):\n",
    "    mem_ind = 0;\n",
    "    for name,param in net.named_parameters():\n",
    "        if (len(list(param.data.shape)) == 2):\n",
    "            param.data = weight_mat[mem_ind:mem_ind+torch.numel(param.data)].view(param.data.shape)\n",
    "            mem_ind = torch.numel(param.data)\n",
    "    \n"
   ]
  },
  {
   "cell_type": "code",
   "execution_count": 50,
   "metadata": {},
   "outputs": [
    {
     "name": "stdout",
     "output_type": "stream",
     "text": [
      "Shape of W:torch.Size([250, 1])\n",
      "Shape of P:torch.Size([250, 250])\n",
      "network MLP(\n",
      "  (fc1): Linear(in_features=14, out_features=10, bias=False)\n",
      "  (fc2): Linear(in_features=10, out_features=10, bias=False)\n",
      "  (fc4): Linear(in_features=10, out_features=1, bias=False)\n",
      ")\n",
      "torch.Size([250, 1])\n",
      "tensor(-0.0262)\n",
      "tensor(0.2910)\n"
     ]
    }
   ],
   "source": [
    "# Define number of Input and Output layers\n",
    "torch.set_default_dtype(torch.float64)\n",
    "n_inputs = X_train.shape[1]\n",
    "n_outputs = 1\n",
    "n_hidden_layer = 10\n",
    "\n",
    "mlp_EKF = MLP(n_inputs,n_hidden_layer, n_outputs, bias = False)\n",
    "mlp_EKF = mlp_EKF.to(device)\n",
    "n_epochs = 1\n",
    "\n",
    "# Define EKF covariances\n",
    "weight_mat = getWeights(mlp_EKF).to(device)\n",
    "print(f\"Shape of W:{weight_mat.shape}\")\n",
    "# System Noise or also known as training  noise  \n",
    "Q = 1e-16*torch.eye(weight_mat.shape[0],device=device, dtype=torch.float64)\n",
    "# Measurement noise or noise in targets \n",
    "R = 10*torch.eye(n_outputs,device=device, dtype=torch.float64)\n",
    "#Covariance Matrix\n",
    "P = 100*torch.eye(weight_mat.shape[0],device=device, dtype=torch.float64)\n",
    "print(f\"Shape of P:{P.shape}\")\n",
    "\n",
    "print(f\"network {mlp_EKF}\")\n",
    "print(weight_mat.shape)\n",
    "\n",
    "\n",
    "def init_weights(m):\n",
    "    if type(m) == nn.Linear:\n",
    "        torch.nn.init.xavier_normal_(m.weight)\n",
    "\n",
    "mlp_EKF.apply(init_weights)\n",
    "with torch.no_grad():\n",
    "    print(mlp_EKF.fc1.weight.mean())\n",
    "    print(mlp_EKF.fc1.weight.std())\n",
    "init_weights = getWeights(mlp_EKF)"
   ]
  },
  {
   "cell_type": "markdown",
   "metadata": {},
   "source": [
    "## Torch Implementation"
   ]
  },
  {
   "cell_type": "code",
   "execution_count": 51,
   "metadata": {},
   "outputs": [
    {
     "name": "stdout",
     "output_type": "stream",
     "text": [
      "weights mean:-0.02624640401302001\n",
      "weights std: 0.29104142064254307\n",
      "sample:0 train error: 152.10806333957743 val error:259.7315785393175\n",
      "sample:500 train error: 342.1241352923023 val error:283.6231814666337\n",
      "sample:1000 train error: 33.00583073380382 val error:281.2118857287086\n",
      "sample:1500 train error: 75.07724597989258 val error:279.72236846515017\n",
      "sample:2000 train error: 291.9850075191327 val error:278.88024249434466\n",
      "sample:2500 train error: 321.0887648013807 val error:277.4267923094306\n",
      "sample:3000 train error: 220.90891662836538 val error:277.2886861459389\n",
      "sample:3500 train error: 275.08315439040695 val error:275.12974840179\n",
      "sample:4000 train error: 258.1054780181637 val error:275.14640144014174\n",
      "sample:4500 train error: 515.8006073800896 val error:318.85998582858247\n",
      "sample:5000 train error: 99.31375537345293 val error:332.2523418780763\n",
      "sample:5500 train error: 1002.2551294179297 val error:671.6113101313036\n",
      "sample:6000 train error: 435.7608709648577 val error:382.9043923459573\n",
      "sample:6500 train error: 687.3834913811907 val error:341.70525353560873\n",
      "sample:7000 train error: 51.88617530502386 val error:320.9515959608216\n",
      "sample:7500 train error: -44.51267017608106 val error:332.5538924388251\n",
      "sample:8000 train error: 342.1871163246736 val error:340.93749409486605\n",
      "sample:8500 train error: -11.10988056161601 val error:310.76573396765633\n"
     ]
    }
   ],
   "source": [
    "setWeights(mlp_EKF,init_weights)\n",
    "weight_mat = getWeights(mlp_EKF).to(device)\n",
    "Q = 1e-16*torch.eye(weight_mat.shape[0],device=device, dtype=torch.float64)\n",
    "# Measurement noise or noise in targets \n",
    "R = 10*torch.eye(n_outputs,device=device, dtype=torch.float64)\n",
    "#Covariance Matrix\n",
    "P = 100*torch.eye(weight_mat.shape[0],device=device, dtype=torch.float64)\n",
    "\n",
    "with torch.no_grad():\n",
    "    print(f\"weights mean:{mlp_EKF.fc1.weight.mean()}\")\n",
    "    print(f\"weights std: {mlp_EKF.fc1.weight.std()}\")\n",
    "x_tensor = torch.tensor(X_train, device=device, dtype=torch.float64)\n",
    "y_tensor = torch.tensor(y_train, device=device, dtype=torch.float64)\n",
    "x_val_tensor = torch.tensor(X_val, device=device, dtype=torch.float64)\n",
    "print_every = 500\n",
    "n_epochs = 1\n",
    "for epoch in range(n_epochs):\n",
    "    \n",
    "    outputs = [] \n",
    "#     rand_idx = np.random.permutation(len(X_train))\n",
    "#     rand_x = X_train[rand_idx]\n",
    "#     rand_y = y_train[rand_idx]\n",
    "#     x_tensor = torch.tensor(rand_x, device=device, dtype=torch.float64)\n",
    "#     y_tensor = torch.tensor(rand_y, device=device, dtype=torch.float64)\n",
    "    #Calling Backward for each sample\n",
    "    for i in (range(x_tensor.shape[0])):\n",
    "        output = mlp_EKF(x_tensor[i])\n",
    "        outputs.append(output)\n",
    "\n",
    "        mlp_EKF.zero_grad()\n",
    "        output.backward(torch.ones_like(output))\n",
    "        #calculate loss\n",
    "        loss = (y_tensor[i]-output).view(1,-1)\n",
    "\n",
    "        H = getWeightsgrad(mlp_EKF).to(device).view(1,-1)\n",
    "        #update weights using EKF filter Update\n",
    "        intermediate = torch.mm(torch.mm(H, P), torch.t(H))\n",
    "\n",
    "        Ak = torch.inverse(R + intermediate)\n",
    "\n",
    "        Kk = torch.mm(torch.mm(P, torch.t(H)), Ak)\n",
    "\n",
    "        weight_mat = weight_mat + torch.mm(Kk, loss)\n",
    "        P = P + Q - torch.mm(torch.mm(Kk,H),P)\n",
    "        setWeights(mlp_EKF,weight_mat)\n",
    "        \n",
    "        if(i%print_every ==0 ):#and i>100 and i<200):\n",
    "            with torch.no_grad():\n",
    "                y_pred = mlp_EKF.forward(x_val_tensor)\n",
    "                y_pred = y_pred.cpu().data.numpy()\n",
    "                error = mean_squared_error(y_val,y_pred)\n",
    "                val_error =  np.sqrt(error)\n",
    "            print(f\"sample:{i} train error: {loss.item()} val error:{val_error.item()}\")\n"
   ]
  },
  {
   "cell_type": "markdown",
   "metadata": {},
   "source": [
    "## Numpy intermediate"
   ]
  },
  {
   "cell_type": "code",
   "execution_count": 52,
   "metadata": {},
   "outputs": [
    {
     "name": "stdout",
     "output_type": "stream",
     "text": [
      "weights mean:-0.02624640401302001\n",
      "weights std: 0.29104142064254307\n",
      "sample:0 train error: 152.10806333957743 val error:259.7297900225779\n",
      "sample:500 train error: 694.1500547381894 val error:599.9638608404874\n",
      "sample:1000 train error: 432.7998560970372 val error:642.6209637758285\n",
      "sample:1500 train error: 501.01661695711044 val error:665.9116881841736\n",
      "sample:2000 train error: 735.8732221578844 val error:682.1711112712586\n",
      "sample:2500 train error: 482.22500303195784 val error:413.8684595004743\n",
      "sample:3000 train error: 335.1044879933766 val error:372.0607093915069\n",
      "sample:3500 train error: 373.2101863122872 val error:355.6031962234349\n",
      "sample:4000 train error: 344.32170837207957 val error:345.375342342791\n",
      "sample:4500 train error: 542.0262930083561 val error:338.29112847507014\n",
      "sample:5000 train error: 100.44508523440648 val error:332.7340135442208\n",
      "sample:5500 train error: 547.914883799384 val error:328.06367988581985\n",
      "sample:6000 train error: 370.65361810488895 val error:324.5001745902667\n",
      "sample:6500 train error: 660.853351837877 val error:321.3250337337197\n",
      "sample:7000 train error: 84.55332249588484 val error:318.59674816645946\n",
      "sample:7500 train error: 102.58760991849823 val error:316.1420488217269\n",
      "sample:8000 train error: 295.9248909563237 val error:313.9428073738806\n",
      "sample:8500 train error: 95.50082043364839 val error:311.95311169730235\n",
      "sample:0 train error: 216.6125211608699 val error:311.2225625031924\n",
      "sample:500 train error: 374.4280798049653 val error:309.4319228129505\n",
      "sample:1000 train error: 66.34357107577561 val error:307.73395271702236\n",
      "sample:1500 train error: 108.48309046877617 val error:306.2182813942504\n",
      "sample:2000 train error: 324.80852768999125 val error:304.8554455156896\n",
      "sample:2500 train error: 354.2133219848005 val error:303.5621972875335\n",
      "sample:3000 train error: 252.681487412264 val error:302.32432224770247\n",
      "sample:3500 train error: 308.25172220546995 val error:301.16986618406065\n",
      "sample:4000 train error: 289.8835628072973 val error:300.0680459419581\n",
      "sample:4500 train error: 494.62770530395164 val error:299.05673477769847\n",
      "sample:5000 train error: 58.40352359602832 val error:298.0779411962075\n",
      "sample:5500 train error: 510.1945459887816 val error:297.10602951765065\n",
      "sample:6000 train error: 336.1480578500976 val error:296.27056509682325\n",
      "sample:6500 train error: 629.1057375570279 val error:295.43637669874266\n",
      "sample:7000 train error: 55.11719483278713 val error:294.6523489601365\n",
      "sample:7500 train error: 75.15670641583276 val error:293.8876963121441\n",
      "sample:8000 train error: 270.2349076110194 val error:293.1538395608766\n",
      "sample:8500 train error: 71.3454567720287 val error:292.44916630879413\n"
     ]
    }
   ],
   "source": [
    "setWeights(mlp_EKF,init_weights)\n",
    "weight_mat = getWeights(mlp_EKF).to(device)\n",
    "Q = 1e-16*torch.eye(weight_mat.shape[0],device=device, dtype=torch.float64)\n",
    "# Measurement noise or noise in targets \n",
    "R = 9*torch.eye(n_outputs,device=device, dtype=torch.float64)\n",
    "#Covariance Matrix\n",
    "P = 100*torch.eye(weight_mat.shape[0],device=device, dtype=torch.float64)\n",
    "\n",
    "P = P.numpy()\n",
    "Q = Q.numpy()\n",
    "R = R.numpy()\n",
    "\n",
    "with torch.no_grad():\n",
    "    print(f\"weights mean:{mlp_EKF.fc1.weight.mean()}\")\n",
    "    print(f\"weights std: {mlp_EKF.fc1.weight.std()}\")\n",
    "x_tensor = torch.tensor(X_train, device=device, dtype=torch.float64)\n",
    "y_tensor = torch.tensor(y_train, device=device, dtype=torch.float64)\n",
    "x_val_tensor = torch.tensor(X_val, device=device, dtype=torch.float64)\n",
    "print_every = 500\n",
    "n_epochs =2\n",
    "for epoch in range(n_epochs):\n",
    "    \n",
    "    outputs = [] \n",
    "    #Calling Backward for each sample\n",
    "    for i in (range(x_tensor.shape[0])):\n",
    "        output = mlp_EKF(x_tensor[i])\n",
    "        outputs.append(output)\n",
    "\n",
    "        mlp_EKF.zero_grad()\n",
    "        output.backward(torch.ones_like(output))\n",
    "        #calculate loss\n",
    "        loss = (y_tensor[i]-output).view(1,-1)\n",
    "\n",
    "        H = getWeightsgrad(mlp_EKF).to(device).view(1,-1)\n",
    "        H = H.numpy()\n",
    "        #update weights using EKF filter Update\n",
    "        intermediate = H@P@H.T\n",
    "\n",
    "        Ak = 1/(R + intermediate)\n",
    "\n",
    "        Kk = P@H.T@Ak\n",
    "        change = Kk @ loss.detach().numpy()\n",
    "        change = torch.tensor(change,device=device, dtype=torch.float64)\n",
    "        weight_mat = weight_mat + change\n",
    "        P = P + Q - Kk@H@P\n",
    "        setWeights(mlp_EKF,weight_mat)\n",
    "        \n",
    "        if(i%print_every ==0 ): #and i>100 and i<200):\n",
    "            with torch.no_grad():\n",
    "                y_pred = mlp_EKF.forward(x_val_tensor)\n",
    "                y_pred = y_pred.cpu().data.numpy()\n",
    "                error = mean_squared_error(y_val,y_pred)\n",
    "                val_error =  np.sqrt(error)\n",
    "            print(f\"sample:{i} train error: {loss.item()} val error:{val_error.item()}\")\n"
   ]
  },
  {
   "cell_type": "code",
   "execution_count": 53,
   "metadata": {},
   "outputs": [
    {
     "name": "stdout",
     "output_type": "stream",
     "text": [
      "291.83750948497635\n"
     ]
    }
   ],
   "source": [
    "with torch.no_grad():\n",
    "    x_test = torch.tensor(X_test, device=device, dtype=torch.float64)\n",
    "    y_pred = mlp_EKF.forward(x_test)\n",
    "    y_pred = y_pred.cpu().data.numpy()\n",
    "    error = mean_squared_error(y_test,y_pred)\n",
    "    print(np.sqrt(error))"
   ]
  },
  {
   "cell_type": "code",
   "execution_count": 15,
   "metadata": {},
   "outputs": [
    {
     "data": {
      "text/plain": [
       "dtype('float64')"
      ]
     },
     "execution_count": 15,
     "metadata": {},
     "output_type": "execute_result"
    }
   ],
   "source": [
    "H.dtype"
   ]
  },
  {
   "cell_type": "code",
   "execution_count": 13,
   "metadata": {},
   "outputs": [
    {
     "data": {
      "text/plain": [
       "array([[10.]])"
      ]
     },
     "execution_count": 13,
     "metadata": {},
     "output_type": "execute_result"
    }
   ],
   "source": [
    "R"
   ]
  }
 ],
 "metadata": {
  "kernelspec": {
   "display_name": "Pytorch",
   "language": "python",
   "name": "torch"
  },
  "language_info": {
   "codemirror_mode": {
    "name": "ipython",
    "version": 3
   },
   "file_extension": ".py",
   "mimetype": "text/x-python",
   "name": "python",
   "nbconvert_exporter": "python",
   "pygments_lexer": "ipython3",
   "version": "3.6.8"
  }
 },
 "nbformat": 4,
 "nbformat_minor": 2
}
