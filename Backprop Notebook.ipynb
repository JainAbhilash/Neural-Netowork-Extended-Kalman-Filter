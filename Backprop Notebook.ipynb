{
 "cells": [
  {
   "cell_type": "markdown",
   "metadata": {},
   "source": [
    "# Machine learning using EKF"
   ]
  },
  {
   "cell_type": "code",
   "execution_count": 1,
   "metadata": {},
   "outputs": [],
   "source": [
    "from IPython import display\n",
    "import os\n",
    "import random\n",
    "import numpy as np\n",
    "import matplotlib.pyplot as plt\n",
    "%matplotlib inline\n",
    "from sklearn.model_selection import train_test_split\n",
    "import seaborn as sns\n",
    "from load import load_abalone_data,load_bikes_data,load_wine_data\n",
    "# Importing Pytorch libraries\n",
    "import torch\n",
    "import torch.nn as nn\n",
    "import torch.nn.functional as F\n",
    "from tqdm import tqdm_notebook as tqdm\n",
    "from sklearn.metrics import mean_absolute_error,mean_squared_error\n",
    "import matplotlib as mpl\n",
    "mpl.rcParams['figure.dpi']=150"
   ]
  },
  {
   "cell_type": "code",
   "execution_count": 2,
   "metadata": {},
   "outputs": [
    {
     "name": "stdout",
     "output_type": "stream",
     "text": [
      "cpu\n"
     ]
    }
   ],
   "source": [
    "# Select device which you are going to use for training\n",
    "# device = torch.device(\"cuda:0\" if torch.cuda.is_available() else \"cpu\")\n",
    "device = torch.device(\"cpu\")\n",
    "print(device)"
   ]
  },
  {
   "cell_type": "markdown",
   "metadata": {},
   "source": [
    "### Import Data Sets\n",
    "Testing using a toy sine data"
   ]
  },
  {
   "cell_type": "code",
   "execution_count": 3,
   "metadata": {},
   "outputs": [
    {
     "name": "stdout",
     "output_type": "stream",
     "text": [
      "(17379,)\n",
      "(17379, 14)\n"
     ]
    }
   ],
   "source": [
    "X,y = load_bikes_data()\n",
    "print(y.shape)\n",
    "print(X.shape)"
   ]
  },
  {
   "cell_type": "markdown",
   "metadata": {},
   "source": [
    "## Data Partition\n"
   ]
  },
  {
   "cell_type": "code",
   "execution_count": 4,
   "metadata": {},
   "outputs": [],
   "source": [
    "from sklearn.preprocessing import MinMaxScaler\n",
    "\n",
    "scaler = MinMaxScaler()\n",
    "\n",
    "X_scaled = scaler.fit_transform(X)"
   ]
  },
  {
   "cell_type": "code",
   "execution_count": 5,
   "metadata": {},
   "outputs": [
    {
     "name": "stdout",
     "output_type": "stream",
     "text": [
      "(8689, 14)\n",
      "(4345, 14)\n",
      "(4345, 14)\n"
     ]
    }
   ],
   "source": [
    "from sklearn.model_selection import train_test_split\n",
    "\n",
    "X_train, X_test, y_train, y_test = train_test_split(X_scaled,y,test_size=.5)\n",
    "X_val,X_test, y_val,y_test = train_test_split(X_test,y_test,test_size=0.5)\n",
    "print(X_train.shape)\n",
    "print(X_val.shape)\n",
    "print(X_test.shape)\n",
    "# x_train_scaled = scaler.fit_transform(x_train)\n",
    "# x_test_scaled = scaler.transform(x_test)"
   ]
  },
  {
   "cell_type": "markdown",
   "metadata": {},
   "source": [
    "## Define Neural network"
   ]
  },
  {
   "cell_type": "code",
   "execution_count": 33,
   "metadata": {},
   "outputs": [],
   "source": [
    "class MLP(nn.Module):\n",
    "    def __init__(self, n_inputs, n_hidden_layer, n_outputs,bias=True):\n",
    "        super(MLP, self).__init__()\n",
    "        # YOUR CODE HERE\n",
    "        #raise NotImplementedError()\n",
    "        self.fc1 = nn.Linear(n_inputs, n_hidden_layer, bias)\n",
    "        self.fc2 = nn.Linear(n_hidden_layer, n_hidden_layer, bias)\n",
    "        #self.fc3 = nn.Linear(n_hidden_layer, n_hidden_layer, bias)\n",
    "        self.fc4 = nn.Linear(n_hidden_layer, n_outputs, bias)\n",
    "        \n",
    "\n",
    "    def forward(self, x):\n",
    "        # YOUR CODE HERE\n",
    "        #raise NotImplementedError()\n",
    "        x = torch.relu(self.fc1(x))\n",
    "        x = torch.relu(self.fc2(x))\n",
    "        #x = torch.relu(self.fc3(x))\n",
    "        x = self.fc4(x)\n",
    "        return x    "
   ]
  },
  {
   "cell_type": "code",
   "execution_count": 34,
   "metadata": {},
   "outputs": [
    {
     "name": "stdout",
     "output_type": "stream",
     "text": [
      "MLP(\n",
      "  (fc1): Linear(in_features=14, out_features=100, bias=True)\n",
      "  (fc2): Linear(in_features=100, out_features=100, bias=True)\n",
      "  (fc4): Linear(in_features=100, out_features=1, bias=True)\n",
      ")\n"
     ]
    }
   ],
   "source": [
    "## Testing net\n",
    "n_inputs = X.shape[1]\n",
    "n_outputs = 1\n",
    "n_hidden_layer = 100\n",
    "test_net = MLP(n_inputs, n_hidden_layer, n_outputs)\n",
    "print(test_net)"
   ]
  },
  {
   "cell_type": "code",
   "execution_count": 35,
   "metadata": {},
   "outputs": [
    {
     "data": {
      "application/vnd.jupyter.widget-view+json": {
       "model_id": "a701a8e7592d4a71a41ab260ae375262",
       "version_major": 2,
       "version_minor": 0
      },
      "text/plain": [
       "HBox(children=(IntProgress(value=0, max=10000), HTML(value='')))"
      ]
     },
     "metadata": {},
     "output_type": "display_data"
    }
   ],
   "source": [
    "# Define number of Input and Output layers\n",
    "torch.set_default_dtype(torch.float64)\n",
    "n_inputs = X.shape[1]\n",
    "n_outputs = 1\n",
    "n_hidden_layer = 10\n",
    "mlp = MLP(n_inputs,n_hidden_layer, n_outputs)\n",
    "mpl = mlp.to(device)\n",
    "\n",
    "optimizer = torch.optim.Adam(mlp.parameters(), lr=0.005)\n",
    "n_epochs = 10000\n",
    "\n",
    "train_accuracy_history = []\n",
    "test_accuracy_history = []\n",
    "x_tensor = torch.tensor(X_train, device=device, dtype=torch.float64)\n",
    "y_tensor = torch.tensor(y_train[:,None], device=device, dtype=torch.float64)\n",
    "x_val_tensor = torch.tensor(X_val, device=device, dtype=torch.float64)\n",
    "print_every = 1000\n",
    "ceLoss = nn.MSELoss()\n",
    "\n",
    "\n",
    "pbar = tqdm(range(n_epochs))\n",
    "train_error =[]\n",
    "RMS =[]\n",
    "\n",
    "patience  = 100\n",
    "tolerance = 1e-3\n",
    "for epoch in pbar:\n",
    "    \n",
    "    #Set gradients as zero\n",
    "    mlp.zero_grad()\n",
    "    #Calculate outputs with forward()\n",
    "    outputs = mlp(x_tensor)\n",
    "    #calculate loss\n",
    "    loss = ceLoss(outputs, y_tensor)\n",
    "#     print(f\"The output is :{outputs.item()} expected is :{y_train}\")\n",
    "    #calculate gradients - calling backward()\n",
    "    loss.backward()\n",
    "\n",
    "    #update weights using optimizer\n",
    "    optimizer.step()\n",
    "    \n",
    "    train_error.append(np.sqrt(loss.item()))\n",
    "    with torch.no_grad():\n",
    "            y_pred = mlp.forward(x_val_tensor)\n",
    "            y_pred = y_pred.cpu().data.numpy()\n",
    "            error = mean_squared_error(y_val,y_pred)\n",
    "            val_error =  np.sqrt(error)\n",
    "            RMS.append(val_error)\n",
    "    \n",
    "    # Early stopping \n",
    "    if len(RMS)>patience and np.alltrue(RMS[-patience:] > min(RMS)+tolerance) :\n",
    "        print(f\"Early Stopping after {epoch+1} epochs\")\n",
    "        break\n",
    "    pbar.set_description(f\"Train Error: {train_error[-1]:.2e}, Val Error: {RMS[-1]:.2e}\")\n",
    "#     if(epoch%print_every ==0):\n",
    "#         with torch.no_grad():\n",
    "#             y_pred = mlp.forward(x_val_tensor)\n",
    "#             y_pred = y_pred.cpu().data.numpy()\n",
    "#             error = mean_squared_error(y_val,y_pred)\n",
    "#             val_error =  np.sqrt(error)\n",
    "#         print(f\"Epoch:{epoch} train error: {np.sqrt(loss.item())} val error:{val_error.item()}\")"
   ]
  },
  {
   "cell_type": "code",
   "execution_count": 36,
   "metadata": {},
   "outputs": [
    {
     "name": "stdout",
     "output_type": "stream",
     "text": [
      "0.2642348495902115\n"
     ]
    }
   ],
   "source": [
    "from sklearn.metrics import mean_absolute_error, mean_squared_error\n",
    "with torch.no_grad():\n",
    "    x_test = torch.tensor(X_test, device=device, dtype=torch.float64)\n",
    "    y_pred = mlp.forward(x_test)\n",
    "    y_pred = y_pred.cpu().data.numpy()\n",
    "    error = mean_squared_error(y_test,y_pred)\n",
    "    print(np.sqrt(error))"
   ]
  },
  {
   "cell_type": "code",
   "execution_count": 37,
   "metadata": {},
   "outputs": [
    {
     "data": {
      "image/png": "[encoded data removed]",
      "text/plain": [
       "<Figure size 432x288 with 1 Axes>"
      ]
     },
     "metadata": {
      "needs_background": "light"
     },
     "output_type": "display_data"
    }
   ],
   "source": [
    "plt.plot(range(len(train_error)),train_error,label=\"Training Error\")\n",
    "plt.plot(range(len(RMS)),RMS, label= \"Validation Error\")\n",
    "plt.legend()\n",
    "plt.yscale('log')\n",
    "plt.xlabel(\"Epochs\")\n",
    "plt.show()"
   ]
  },
  {
   "cell_type": "code",
   "execution_count": null,
   "metadata": {},
   "outputs": [],
   "source": []
  }
 ],
 "metadata": {
  "kernelspec": {
   "display_name": "Pytorch",
   "language": "python",
   "name": "torch"
  },
  "language_info": {
   "codemirror_mode": {
    "name": "ipython",
    "version": 3
   },
   "file_extension": ".py",
   "mimetype": "text/x-python",
   "name": "python",
   "nbconvert_exporter": "python",
   "pygments_lexer": "ipython3",
   "version": "3.6.8"
  }
 },
 "nbformat": 4,
 "nbformat_minor": 2
}
