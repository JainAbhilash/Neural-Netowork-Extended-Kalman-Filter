{
 "cells": [
  {
   "cell_type": "markdown",
   "metadata": {},
   "source": [
    "# Machine learning using EKF"
   ]
  },
  {
   "cell_type": "code",
   "execution_count": 1,
   "metadata": {},
   "outputs": [],
   "source": [
    "from IPython import display\n",
    "import os\n",
    "import random\n",
    "import numpy as np\n",
    "import matplotlib.pyplot as plt\n",
    "%matplotlib inline\n",
    "import pandas as pd\n",
    "from sklearn.model_selection import train_test_split\n",
    "import seaborn as sns\n",
    "from load import load_abalone_data,load_bikes_data\n",
    "# Importing Pytorch libraries\n",
    "import torch\n",
    "import torch.nn as nn\n",
    "import torch.nn.functional as F\n",
    "from  sklearn.datasets import make_regression\n",
    "from sklearn.datasets import load_boston\n",
    "from tqdm import tqdm \n",
    "from sklearn.metrics import mean_absolute_error,mean_squared_error"
   ]
  },
  {
   "cell_type": "code",
   "execution_count": 2,
   "metadata": {},
   "outputs": [
    {
     "name": "stdout",
     "output_type": "stream",
     "text": [
      "cpu\n"
     ]
    }
   ],
   "source": [
    "# Select device which you are going to use for training\n",
    "# device = torch.device(\"cuda:0\" if torch.cuda.is_available() else \"cpu\")\n",
    "device = torch.device(\"cpu\")\n",
    "print(device)"
   ]
  },
  {
   "cell_type": "markdown",
   "metadata": {},
   "source": [
    "### Import Data Sets\n",
    "Testing using a toy sine data"
   ]
  },
  {
   "cell_type": "code",
   "execution_count": 22,
   "metadata": {},
   "outputs": [
    {
     "name": "stdout",
     "output_type": "stream",
     "text": [
      "(17379,)\n",
      "(17379, 14)\n"
     ]
    }
   ],
   "source": [
    "X,y = load_bikes_data()\n",
    "print(y.shape)\n",
    "print(X.shape)"
   ]
  },
  {
   "cell_type": "markdown",
   "metadata": {},
   "source": [
    "## Data Partition\n"
   ]
  },
  {
   "cell_type": "code",
   "execution_count": 23,
   "metadata": {},
   "outputs": [],
   "source": [
    "from sklearn.preprocessing import MinMaxScaler\n",
    "\n",
    "scaler = MinMaxScaler()\n",
    "\n",
    "X_scaled = scaler.fit_transform(X)"
   ]
  },
  {
   "cell_type": "code",
   "execution_count": 24,
   "metadata": {},
   "outputs": [
    {
     "name": "stdout",
     "output_type": "stream",
     "text": [
      "(8689, 14)\n",
      "(4345, 14)\n",
      "(4345, 14)\n"
     ]
    }
   ],
   "source": [
    "from sklearn.model_selection import train_test_split\n",
    "\n",
    "X_train, X_test, y_train, y_test = train_test_split(X_scaled,y,test_size=.5)\n",
    "X_val,X_test, y_val,y_test = train_test_split(X_test,y_test,test_size=0.5)\n",
    "print(X_train.shape)\n",
    "print(X_val.shape)\n",
    "print(X_test.shape)\n",
    "\n",
    "# x_train_scaled = scaler.fit_transform(x_train)\n",
    "# x_test_scaled = scaler.transform(x_test)"
   ]
  },
  {
   "cell_type": "markdown",
   "metadata": {},
   "source": [
    "## Define Neural network"
   ]
  },
  {
   "cell_type": "code",
   "execution_count": 25,
   "metadata": {},
   "outputs": [],
   "source": [
    "class MLP(nn.Module):\n",
    "    def __init__(self, n_inputs, n_hidden_layer, n_outputs,bias=True):\n",
    "        super(MLP, self).__init__()\n",
    "        # YOUR CODE HERE\n",
    "        #raise NotImplementedError()\n",
    "        self.fc1 = nn.Linear(n_inputs, n_hidden_layer, bias)\n",
    "        self.fc2 = nn.Linear(n_hidden_layer, n_hidden_layer, bias)\n",
    "        #self.fc3 = nn.Linear(n_hidden_layer, n_hidden_layer, bias)\n",
    "        self.fc4 = nn.Linear(n_hidden_layer, n_outputs, bias)\n",
    "        \n",
    "\n",
    "    def forward(self, x):\n",
    "        # YOUR CODE HERE\n",
    "        #raise NotImplementedError()\n",
    "        x = torch.sigmoid(self.fc1(x))\n",
    "        x = torch.sigmoid(self.fc2(x))\n",
    "        #x = torch.tanh(self.fc3(x))\n",
    "        x = self.fc4(x)\n",
    "        return x    "
   ]
  },
  {
   "cell_type": "markdown",
   "metadata": {},
   "source": [
    "## Using EKF for learning "
   ]
  },
  {
   "cell_type": "code",
   "execution_count": 26,
   "metadata": {},
   "outputs": [],
   "source": [
    "  \n",
    "def getWeights(net):\n",
    "    weight_mat = []\n",
    "    for name,param in net.named_parameters():\n",
    "        if (len(list(param.data.shape)) == 2):\n",
    "            weight_mat.append(param.data.flatten())\n",
    "        \n",
    "    weight_mat = torch.cat(weight_mat, dim=0)       \n",
    "    return weight_mat.view(-1, 1)\n",
    "\n",
    "def getWeightsgrad(net):\n",
    "    weight_grad_mat = []\n",
    "    for name,param in net.named_parameters():\n",
    "        if (len(list(param.grad.shape)) == 2):\n",
    "            weight_grad_mat.append(param.grad.flatten())\n",
    "    weight_grad_mat = torch.cat(weight_grad_mat)       \n",
    "    return weight_grad_mat.view(-1, 1)\n",
    "\n",
    "def setWeights(net, weight_mat):\n",
    "    mem_ind = 0;\n",
    "    for name,param in net.named_parameters():\n",
    "        if (len(list(param.data.shape)) == 2):\n",
    "            param.data = weight_mat[mem_ind:mem_ind+torch.numel(param.data)].view(param.data.shape)\n",
    "            mem_ind = torch.numel(param.data)\n",
    "    \n"
   ]
  },
  {
   "cell_type": "code",
   "execution_count": 27,
   "metadata": {},
   "outputs": [
    {
     "name": "stdout",
     "output_type": "stream",
     "text": [
      "Shape of W:torch.Size([250, 1])\n",
      "Shape of P:torch.Size([250, 250])\n",
      "network MLP(\n",
      "  (fc1): Linear(in_features=14, out_features=10, bias=False)\n",
      "  (fc2): Linear(in_features=10, out_features=10, bias=False)\n",
      "  (fc4): Linear(in_features=10, out_features=1, bias=False)\n",
      ")\n",
      "torch.Size([250, 1])\n",
      "tensor(0.0039)\n",
      "tensor(0.3340)\n"
     ]
    }
   ],
   "source": [
    "# Define number of Input and Output layers\n",
    "torch.set_default_dtype(torch.float64)\n",
    "n_inputs = X_train.shape[1]\n",
    "n_outputs = 1\n",
    "n_hidden_layer = 10\n",
    "\n",
    "mlp_EKF = MLP(n_inputs,n_hidden_layer, n_outputs, bias = False)\n",
    "mlp_EKF = mlp_EKF.to(device)\n",
    "n_epochs = 1\n",
    "\n",
    "# Define EKF covariances\n",
    "weight_mat = getWeights(mlp_EKF).to(device)\n",
    "print(f\"Shape of W:{weight_mat.shape}\")\n",
    "# System Noise or also known as training  noise  \n",
    "Q = 1e-16*torch.eye(weight_mat.shape[0],device=device, dtype=torch.float64)\n",
    "# Measurement noise or noise in targets \n",
    "R = 10*torch.eye(n_outputs,device=device, dtype=torch.float64)\n",
    "#Covariance Matrix\n",
    "P = 100*torch.eye(weight_mat.shape[0],device=device, dtype=torch.float64)\n",
    "print(f\"Shape of P:{P.shape}\")\n",
    "\n",
    "print(f\"network {mlp_EKF}\")\n",
    "print(weight_mat.shape)\n",
    "\n",
    "\n",
    "def init_weights(m):\n",
    "    if type(m) == nn.Linear:\n",
    "        torch.nn.init.xavier_normal_(m.weight)\n",
    "\n",
    "mlp_EKF.apply(init_weights)\n",
    "with torch.no_grad():\n",
    "    print(mlp_EKF.fc1.weight.mean())\n",
    "    print(mlp_EKF.fc1.weight.std())\n",
    "init_weights = getWeights(mlp_EKF)"
   ]
  },
  {
   "cell_type": "markdown",
   "metadata": {},
   "source": [
    "## Torch Implementation"
   ]
  },
  {
   "cell_type": "code",
   "execution_count": 50,
   "metadata": {},
   "outputs": [
    {
     "name": "stdout",
     "output_type": "stream",
     "text": [
      "weights mean:0.003935887045338115\n",
      "weights std: 0.33399130917664455\n",
      "sample:0 train error: 189.0124417091854 val error:260.7587497351297\n",
      "sample:500 train error: 403.5370376424208 val error:525.2413132042795\n",
      "sample:1000 train error: 670.1778089696331 val error:674.3707967639708\n",
      "sample:1500 train error: 983.929102229944 val error:805.9454126726093\n",
      "sample:2000 train error: 719.1001867113164 val error:876.319132660891\n",
      "sample:2500 train error: 743.8485852703036 val error:941.709254508187\n",
      "sample:3000 train error: -469.701212117414 val error:349.04362467961573\n",
      "sample:3500 train error: -399.7984646536853 val error:349.12653183456257\n",
      "sample:4000 train error: -373.84955018676357 val error:349.1701632385776\n",
      "sample:4500 train error: -392.8826386740884 val error:349.19844338719616\n",
      "sample:5000 train error: -452.9078459247737 val error:349.21999735169146\n",
      "sample:5500 train error: -483.9300711632356 val error:349.23900009145615\n",
      "sample:6000 train error: -232.94825435373735 val error:349.2545214178804\n",
      "sample:6500 train error: -268.9630676341364 val error:349.2671921869518\n",
      "sample:7000 train error: -460.97714219314656 val error:349.27924252476504\n",
      "sample:7500 train error: -199.5938530186582 val error:241.56455905291492\n",
      "sample:8000 train error: -105.67879711827015 val error:218.1141865451945\n",
      "sample:8500 train error: 14.04989090555739 val error:200.6653809589991\n"
     ]
    }
   ],
   "source": [
    "setWeights(mlp_EKF,init_weights)\n",
    "weight_mat = getWeights(mlp_EKF).to(device)\n",
    "Q = 1e-16*torch.eye(weight_mat.shape[0],device=device, dtype=torch.float64)\n",
    "# Measurement noise or noise in targets \n",
    "R = 10*torch.eye(n_outputs,device=device, dtype=torch.float64)\n",
    "#Covariance Matrix\n",
    "P = 100*torch.eye(weight_mat.shape[0],device=device, dtype=torch.float64)\n",
    "\n",
    "with torch.no_grad():\n",
    "    print(f\"weights mean:{mlp_EKF.fc1.weight.mean()}\")\n",
    "    print(f\"weights std: {mlp_EKF.fc1.weight.std()}\")\n",
    "#x_tensor = torch.tensor(X_train, device=device, dtype=torch.float64)\n",
    "#y_tensor = torch.tensor(y_train, device=device, dtype=torch.float64)\n",
    "x_val_tensor = torch.tensor(X_val, device=device, dtype=torch.float64)\n",
    "print_every = 500\n",
    "\n",
    "for epoch in range(n_epochs):\n",
    "    \n",
    "    outputs = [] \n",
    "    rand_idx = np.random.permutation(len(X_train))\n",
    "    rand_x = X_train[rand_idx]\n",
    "    rand_y = y_train[rand_idx]\n",
    "    x_tensor = torch.tensor(rand_x, device=device, dtype=torch.float64)\n",
    "    y_tensor = torch.tensor(rand_y, device=device, dtype=torch.float64)\n",
    "    #Calling Backward for each sample\n",
    "    for i in (range(x_tensor.shape[0])):\n",
    "        output = mlp_EKF(x_tensor[i])\n",
    "        outputs.append(output)\n",
    "\n",
    "        mlp_EKF.zero_grad()\n",
    "        output.backward(torch.ones_like(output))\n",
    "        #calculate loss\n",
    "        loss = (y_tensor[i]-output).view(1,-1)\n",
    "\n",
    "        H = getWeightsgrad(mlp_EKF).to(device).view(1,-1)\n",
    "        #update weights using EKF filter Update\n",
    "        intermediate = torch.mm(torch.mm(H, P), torch.t(H))\n",
    "\n",
    "        Ak = torch.inverse(R + intermediate)\n",
    "\n",
    "        Kk = torch.mm(torch.mm(P, torch.t(H)), Ak)\n",
    "\n",
    "        weight_mat = weight_mat + torch.mm(Kk, loss)\n",
    "        P = P + Q - torch.mm(torch.mm(Kk,H),P)\n",
    "        setWeights(mlp_EKF,weight_mat)\n",
    "        \n",
    "        if(i%print_every ==0 ):#and i>100 and i<200):\n",
    "            with torch.no_grad():\n",
    "                y_pred = mlp_EKF.forward(x_val_tensor)\n",
    "                y_pred = y_pred.cpu().data.numpy()\n",
    "                error = mean_squared_error(y_val,y_pred)\n",
    "                val_error =  np.sqrt(error)\n",
    "            print(f\"sample:{i} train error: {loss.item()} val error:{val_error.item()}\")\n"
   ]
  },
  {
   "cell_type": "markdown",
   "metadata": {},
   "source": [
    "## Numpy intermediate"
   ]
  },
  {
   "cell_type": "code",
   "execution_count": 52,
   "metadata": {},
   "outputs": [
    {
     "name": "stdout",
     "output_type": "stream",
     "text": [
      "weights mean:0.003935887045338115\n",
      "weights std: 0.33399130917664455\n",
      "sample:0 train error: 189.0124417091854 val error:260.76388603515824\n",
      "sample:500 train error: 75.34213032991546 val error:240.3276837302448\n",
      "sample:1000 train error: 177.6703405900933 val error:240.34369165453288\n",
      "sample:1500 train error: 357.3519203202173 val error:242.15699306576303\n",
      "sample:2000 train error: 18.769081426663114 val error:241.05803888462435\n",
      "sample:2500 train error: -14.012919244351906 val error:241.26080721285874\n",
      "sample:3000 train error: -17.762290478461104 val error:241.5438683822327\n",
      "sample:3500 train error: 70.79281690728203 val error:240.9119218055544\n",
      "sample:4000 train error: 74.74573294876727 val error:239.96678239526062\n",
      "sample:4500 train error: 54.87462314907143 val error:238.4048350591784\n",
      "sample:5000 train error: -6.081095211708913 val error:237.68730978113518\n",
      "sample:5500 train error: -28.151231833506866 val error:237.2986837712647\n",
      "sample:6000 train error: 212.62537727878419 val error:236.92623432381288\n",
      "sample:6500 train error: 176.06952294599282 val error:236.67949888855745\n",
      "sample:7000 train error: -6.377224227527591 val error:236.50725656353623\n",
      "sample:7500 train error: 106.28789535371472 val error:236.38457573464729\n",
      "sample:8000 train error: 158.6171244581281 val error:236.0845782194825\n",
      "sample:8500 train error: 245.72651414223816 val error:235.97459209326294\n",
      "sample:0 train error: 146.52840977181648 val error:235.83652259857848\n",
      "sample:500 train error: 55.27681811881298 val error:235.76553162301175\n",
      "sample:1000 train error: 176.99813555644502 val error:235.55740628141538\n",
      "sample:1500 train error: 342.0423751740323 val error:234.77863324328132\n",
      "sample:2000 train error: 4.886110310828606 val error:234.68289681271563\n",
      "sample:2500 train error: -14.367734142523215 val error:234.61426376383199\n",
      "sample:3000 train error: -29.638881670959528 val error:234.31692393931363\n",
      "sample:3500 train error: 63.69004219564877 val error:234.23424561575115\n",
      "sample:4000 train error: 89.5881641564371 val error:234.19011930874294\n",
      "sample:4500 train error: 46.90583909285024 val error:234.11032727778465\n",
      "sample:5000 train error: 10.354599281687268 val error:233.98177834368403\n",
      "sample:5500 train error: -33.35634416822406 val error:233.90314348249774\n",
      "sample:6000 train error: 206.37082686312615 val error:233.79160212660656\n",
      "sample:6500 train error: 170.20719222968617 val error:233.71804020604827\n",
      "sample:7000 train error: -21.896133710853924 val error:233.64107023386202\n",
      "sample:7500 train error: 100.98287392233993 val error:233.60175111206976\n",
      "sample:8000 train error: 158.82663508722092 val error:233.53662577191974\n",
      "sample:8500 train error: 228.5780566776425 val error:233.3785349383219\n"
     ]
    }
   ],
   "source": [
    "setWeights(mlp_EKF,init_weights)\n",
    "weight_mat = getWeights(mlp_EKF).to(device)\n",
    "Q = 1e-16*torch.eye(weight_mat.shape[0],device=device, dtype=torch.float64)\n",
    "# Measurement noise or noise in targets \n",
    "R = 9*torch.eye(n_outputs,device=device, dtype=torch.float64)\n",
    "#Covariance Matrix\n",
    "P = 100*torch.eye(weight_mat.shape[0],device=device, dtype=torch.float64)\n",
    "\n",
    "P = P.numpy()\n",
    "Q = Q.numpy()\n",
    "R = R.numpy()\n",
    "\n",
    "with torch.no_grad():\n",
    "    print(f\"weights mean:{mlp_EKF.fc1.weight.mean()}\")\n",
    "    print(f\"weights std: {mlp_EKF.fc1.weight.std()}\")\n",
    "x_tensor = torch.tensor(X_train, device=device, dtype=torch.float64)\n",
    "y_tensor = torch.tensor(y_train, device=device, dtype=torch.float64)\n",
    "x_val_tensor = torch.tensor(X_val, device=device, dtype=torch.float64)\n",
    "print_every = 500\n",
    "n_epochs =2\n",
    "for epoch in range(n_epochs):\n",
    "    \n",
    "    outputs = [] \n",
    "    #Calling Backward for each sample\n",
    "    for i in (range(x_tensor.shape[0])):\n",
    "        output = mlp_EKF(x_tensor[i])\n",
    "        outputs.append(output)\n",
    "\n",
    "        mlp_EKF.zero_grad()\n",
    "        output.backward(torch.ones_like(output))\n",
    "        #calculate loss\n",
    "        loss = (y_tensor[i]-output).view(1,-1)\n",
    "\n",
    "        H = getWeightsgrad(mlp_EKF).to(device).view(1,-1)\n",
    "        H = H.numpy()\n",
    "        #update weights using EKF filter Update\n",
    "        intermediate = H@P@H.T\n",
    "\n",
    "        Ak = 1/(R + intermediate)\n",
    "\n",
    "        Kk = P@H.T@Ak\n",
    "        change = Kk @ loss.detach().numpy()\n",
    "        change = torch.tensor(change,device=device, dtype=torch.float64)\n",
    "        weight_mat = weight_mat + change\n",
    "        P = P + Q - Kk@H@P\n",
    "        setWeights(mlp_EKF,weight_mat)\n",
    "        \n",
    "        if(i%print_every ==0 ): #and i>100 and i<200):\n",
    "            with torch.no_grad():\n",
    "                y_pred = mlp_EKF.forward(x_val_tensor)\n",
    "                y_pred = y_pred.cpu().data.numpy()\n",
    "                error = mean_squared_error(y_val,y_pred)\n",
    "                val_error =  np.sqrt(error)\n",
    "            print(f\"sample:{i} train error: {loss.item()} val error:{val_error.item()}\")\n"
   ]
  },
  {
   "cell_type": "code",
   "execution_count": 32,
   "metadata": {},
   "outputs": [
    {
     "name": "stdout",
     "output_type": "stream",
     "text": [
      "199.9634831909458\n"
     ]
    }
   ],
   "source": [
    "with torch.no_grad():\n",
    "    x_test = torch.tensor(X_test, device=device, dtype=torch.float64)\n",
    "    y_pred = mlp_EKF.forward(x_test)\n",
    "    y_pred = y_pred.cpu().data.numpy()\n",
    "    error = mean_squared_error(y_test,y_pred)\n",
    "    print(np.sqrt(error))"
   ]
  },
  {
   "cell_type": "code",
   "execution_count": 15,
   "metadata": {},
   "outputs": [
    {
     "data": {
      "text/plain": [
       "dtype('float64')"
      ]
     },
     "execution_count": 15,
     "metadata": {},
     "output_type": "execute_result"
    }
   ],
   "source": [
    "H.dtype"
   ]
  },
  {
   "cell_type": "code",
   "execution_count": 13,
   "metadata": {},
   "outputs": [
    {
     "data": {
      "text/plain": [
       "array([[10.]])"
      ]
     },
     "execution_count": 13,
     "metadata": {},
     "output_type": "execute_result"
    }
   ],
   "source": [
    "R"
   ]
  }
 ],
 "metadata": {
  "kernelspec": {
   "display_name": "PyTorch",
   "language": "python",
   "name": "torch"
  },
  "language_info": {
   "codemirror_mode": {
    "name": "ipython",
    "version": 3
   },
   "file_extension": ".py",
   "mimetype": "text/x-python",
   "name": "python",
   "nbconvert_exporter": "python",
   "pygments_lexer": "ipython3",
   "version": "3.6.7"
  }
 },
 "nbformat": 4,
 "nbformat_minor": 2
}
