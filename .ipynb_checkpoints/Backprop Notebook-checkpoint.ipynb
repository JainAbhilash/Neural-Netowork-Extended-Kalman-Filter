{
 "cells": [
  {
   "cell_type": "markdown",
   "metadata": {},
   "source": [
    "# Machine learning using EKF"
   ]
  },
  {
   "cell_type": "code",
   "execution_count": 1,
   "metadata": {},
   "outputs": [],
   "source": [
    "from IPython import display\n",
    "import os\n",
    "import random\n",
    "import numpy as np\n",
    "import matplotlib.pyplot as plt\n",
    "%matplotlib inline\n",
    "import pandas as pd\n",
    "from sklearn.model_selection import train_test_split\n",
    "import seaborn as sns\n",
    "from load import load_abalone_data,load_bikes_data\n",
    "# Importing Pytorch libraries\n",
    "import torch\n",
    "import torch.nn as nn\n",
    "import torch.nn.functional as F\n",
    "from  sklearn.datasets import make_regression\n",
    "from sklearn.datasets import load_boston\n",
    "from tqdm import tqdm as tqdm\n",
    "from sklearn.metrics import mean_absolute_error,mean_squared_error\n"
   ]
  },
  {
   "cell_type": "code",
   "execution_count": 2,
   "metadata": {},
   "outputs": [
    {
     "name": "stdout",
     "output_type": "stream",
     "text": [
      "cpu\n"
     ]
    }
   ],
   "source": [
    "# Select device which you are going to use for training\n",
    "# device = torch.device(\"cuda:0\" if torch.cuda.is_available() else \"cpu\")\n",
    "device = torch.device(\"cpu\")\n",
    "print(device)"
   ]
  },
  {
   "cell_type": "markdown",
   "metadata": {},
   "source": [
    "### Import Data Sets\n",
    "Testing using a toy sine data"
   ]
  },
  {
   "cell_type": "code",
   "execution_count": 3,
   "metadata": {},
   "outputs": [
    {
     "name": "stdout",
     "output_type": "stream",
     "text": [
      "(17379,)\n",
      "(17379, 14)\n"
     ]
    }
   ],
   "source": [
    "X,y = load_bikes_data()\n",
    "print(y.shape)\n",
    "print(X.shape)"
   ]
  },
  {
   "cell_type": "markdown",
   "metadata": {},
   "source": [
    "## Data Partition\n"
   ]
  },
  {
   "cell_type": "code",
   "execution_count": 13,
   "metadata": {},
   "outputs": [],
   "source": [
    "from sklearn.preprocessing import MinMaxScaler\n",
    "\n",
    "scaler = MinMaxScaler()\n",
    "\n",
    "X_scaled = scaler.fit_transform(X)"
   ]
  },
  {
   "cell_type": "code",
   "execution_count": 14,
   "metadata": {},
   "outputs": [
    {
     "name": "stdout",
     "output_type": "stream",
     "text": [
      "(8689, 14)\n",
      "(4345, 14)\n",
      "(4345, 14)\n"
     ]
    }
   ],
   "source": [
    "from sklearn.model_selection import train_test_split\n",
    "\n",
    "X_train, X_test, y_train, y_test = train_test_split(X_scaled,y,test_size=.5)\n",
    "X_val,X_test, y_val,y_test = train_test_split(X_test,y_test,test_size=0.5)\n",
    "print(X_train.shape)\n",
    "print(X_val.shape)\n",
    "print(X_test.shape)\n",
    "# x_train_scaled = scaler.fit_transform(x_train)\n",
    "# x_test_scaled = scaler.transform(x_test)"
   ]
  },
  {
   "cell_type": "markdown",
   "metadata": {},
   "source": [
    "## Define Neural network"
   ]
  },
  {
   "cell_type": "code",
   "execution_count": 26,
   "metadata": {},
   "outputs": [],
   "source": [
    "class MLP(nn.Module):\n",
    "    def __init__(self, n_inputs, n_hidden_layer, n_outputs,bias=True):\n",
    "        super(MLP, self).__init__()\n",
    "        # YOUR CODE HERE\n",
    "        #raise NotImplementedError()\n",
    "        self.fc1 = nn.Linear(n_inputs, n_hidden_layer, bias)\n",
    "        self.fc2 = nn.Linear(n_hidden_layer, n_hidden_layer, bias)\n",
    "        self.fc3 = nn.Linear(n_hidden_layer, n_hidden_layer, bias)\n",
    "        self.fc4 = nn.Linear(n_hidden_layer, n_outputs, bias)\n",
    "        \n",
    "\n",
    "    def forward(self, x):\n",
    "        # YOUR CODE HERE\n",
    "        #raise NotImplementedError()\n",
    "        x = torch.relu(self.fc1(x))\n",
    "        x = torch.relu(self.fc2(x))\n",
    "        x = torch.relu(self.fc3(x))\n",
    "        x = self.fc4(x)\n",
    "        return x    "
   ]
  },
  {
   "cell_type": "code",
   "execution_count": 27,
   "metadata": {},
   "outputs": [
    {
     "name": "stdout",
     "output_type": "stream",
     "text": [
      "MLP(\n",
      "  (fc1): Linear(in_features=14, out_features=100, bias=True)\n",
      "  (fc2): Linear(in_features=100, out_features=100, bias=True)\n",
      "  (fc3): Linear(in_features=100, out_features=100, bias=True)\n",
      "  (fc4): Linear(in_features=100, out_features=1, bias=True)\n",
      ")\n"
     ]
    }
   ],
   "source": [
    "## Testing net\n",
    "n_inputs = X.shape[1]\n",
    "n_outputs = 1\n",
    "n_hidden_layer = 100\n",
    "test_net = MLP(n_inputs, n_hidden_layer, n_outputs)\n",
    "print(test_net)"
   ]
  },
  {
   "cell_type": "code",
   "execution_count": 28,
   "metadata": {},
   "outputs": [
    {
     "name": "stdout",
     "output_type": "stream",
     "text": [
      "sample:0 train error: 262.3759829621346 val error:263.5806237558505\n",
      "sample:10 train error: 261.9839731094661 val error:263.13252030722134\n",
      "sample:20 train error: 260.0282906181474 val error:260.8256722090133\n",
      "sample:30 train error: 251.63693623174723 val error:251.2350320719834\n",
      "sample:40 train error: 225.6680216960565 val error:222.52412746791668\n",
      "sample:50 train error: 176.72944591270414 val error:173.02911830516769\n",
      "sample:60 train error: 172.20271939156697 val error:171.60987434621364\n",
      "sample:70 train error: 161.5497335432694 val error:161.44354070669087\n",
      "sample:80 train error: 159.1108499859706 val error:158.59431207342027\n",
      "sample:90 train error: 154.1696788416743 val error:153.6769222832112\n",
      "sample:100 train error: 149.3385807556256 val error:148.66018592734042\n",
      "sample:110 train error: 143.61745202233433 val error:142.7736386286948\n",
      "sample:120 train error: 136.34916001320602 val error:135.22074512075045\n",
      "sample:130 train error: 127.32015149167728 val error:125.87355555897544\n",
      "sample:140 train error: 116.4153490243145 val error:114.58913949139409\n",
      "sample:150 train error: 104.37710100836381 val error:102.29523292466595\n",
      "sample:160 train error: 93.02231687396866 val error:90.88027715694774\n",
      "sample:170 train error: 83.12164836786567 val error:81.06701327103788\n",
      "sample:180 train error: 73.88135280206848 val error:72.00251246431971\n",
      "sample:190 train error: 64.72604551384592 val error:63.09896028754252\n"
     ]
    }
   ],
   "source": [
    "# Define number of Input and Output layers\n",
    "torch.set_default_dtype(torch.float64)\n",
    "n_inputs = X.shape[1]\n",
    "n_outputs = 1\n",
    "n_hidden_layer = 20\n",
    "mlp = MLP(n_inputs,n_hidden_layer, n_outputs)\n",
    "mpl = mlp.to(device)\n",
    "\n",
    "optimizer = torch.optim.Adam(mlp.parameters(), lr=0.005)\n",
    "n_epochs = 200\n",
    "\n",
    "train_accuracy_history = []\n",
    "test_accuracy_history = []\n",
    "print_every = 500\n",
    "x_tensor = torch.tensor(X_train, device=device, dtype=torch.float64)\n",
    "y_tensor = torch.tensor(y_train[:,None], device=device, dtype=torch.float64)\n",
    "x_val_tensor = torch.tensor(X_val, device=device, dtype=torch.float64)\n",
    "print_every = 10\n",
    "ceLoss = nn.MSELoss()\n",
    "\n",
    "\n",
    "\n",
    "for epoch in (range(n_epochs)):\n",
    "    \n",
    "    #Set gradients as zero\n",
    "    mlp.zero_grad()\n",
    "    #Calculate outputs with forward()\n",
    "    outputs = mlp(x_tensor)\n",
    "    #calculate loss\n",
    "    loss = ceLoss(outputs, y_tensor)\n",
    "#     print(f\"The output is :{outputs.item()} expected is :{y_train}\")\n",
    "    #calculate gradients - calling backward()\n",
    "    loss.backward()\n",
    "    \n",
    "    #update weights using optimizer\n",
    "    optimizer.step()\n",
    "    if(epoch%print_every ==0):\n",
    "        with torch.no_grad():\n",
    "            y_pred = mlp.forward(x_val_tensor)\n",
    "            y_pred = y_pred.cpu().data.numpy()\n",
    "            error = mean_squared_error(y_val,y_pred)\n",
    "            val_error =  np.sqrt(error)\n",
    "        print(f\"Epoch:{epoch} train error: {np.sqrt(loss.item())} val error:{val_error.item()}\")"
   ]
  },
  {
   "cell_type": "code",
   "execution_count": 25,
   "metadata": {},
   "outputs": [
    {
     "name": "stdout",
     "output_type": "stream",
     "text": [
      "132.88601253611148\n"
     ]
    }
   ],
   "source": [
    "from sklearn.metrics import mean_absolute_error, mean_squared_error\n",
    "with torch.no_grad():\n",
    "    x_test = torch.tensor(X_test, device=device, dtype=torch.float64)\n",
    "    y_pred = mlp.forward(x_test)\n",
    "    y_pred = y_pred.cpu().data.numpy()\n",
    "    error = mean_squared_error(y_test,y_pred)\n",
    "    print(np.sqrt(error))"
   ]
  },
  {
   "cell_type": "code",
   "execution_count": null,
   "metadata": {},
   "outputs": [],
   "source": []
  }
 ],
 "metadata": {
  "kernelspec": {
   "display_name": "Pytorch",
   "language": "python",
   "name": "torch"
  },
  "language_info": {
   "codemirror_mode": {
    "name": "ipython",
    "version": 3
   },
   "file_extension": ".py",
   "mimetype": "text/x-python",
   "name": "python",
   "nbconvert_exporter": "python",
   "pygments_lexer": "ipython3",
   "version": "3.6.8"
  }
 },
 "nbformat": 4,
 "nbformat_minor": 2
}
