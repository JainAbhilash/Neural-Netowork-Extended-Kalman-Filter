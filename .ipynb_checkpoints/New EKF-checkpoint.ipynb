{
 "cells": [
  {
   "cell_type": "code",
   "execution_count": 1,
   "metadata": {},
   "outputs": [],
   "source": [
    "%load_ext autoreload\n",
    "%autoreload 2"
   ]
  },
  {
   "cell_type": "code",
   "execution_count": 17,
   "metadata": {},
   "outputs": [],
   "source": [
    "import numpy as np\n",
    "import matplotlib.pyplot as plt\n",
    "import knn as kalmann\n",
    "from load import load_bikes_data\n",
    "from tqdm import tqdm \n",
    "from sklearn.metrics import mean_absolute_error,mean_squared_error\n",
    "from sklearn.preprocessing import MinMaxScaler\n",
    "from sklearn.model_selection import train_test_split\n",
    "from  tqdm.auto import tqdm\n",
    "import matplotlib.pyplot as plt\n",
    "import matplotlib as mpl\n",
    "mpl.rcParams['figure.dpi']=150"
   ]
  },
  {
   "cell_type": "markdown",
   "metadata": {},
   "source": [
    "##  Load Data"
   ]
  },
  {
   "cell_type": "code",
   "execution_count": 18,
   "metadata": {},
   "outputs": [
    {
     "name": "stdout",
     "output_type": "stream",
     "text": [
      "(17379,)\n",
      "(17379, 14)\n"
     ]
    }
   ],
   "source": [
    "X,y = load_bikes_data()\n",
    "print(y.shape)\n",
    "print(X.shape)"
   ]
  },
  {
   "cell_type": "markdown",
   "metadata": {},
   "source": [
    "## Preprocess Data"
   ]
  },
  {
   "cell_type": "code",
   "execution_count": 19,
   "metadata": {},
   "outputs": [],
   "source": [
    "scaler = MinMaxScaler()\n",
    "\n",
    "X_scaled = scaler.fit_transform(X)"
   ]
  },
  {
   "cell_type": "markdown",
   "metadata": {},
   "source": [
    "## Partition Dataset"
   ]
  },
  {
   "cell_type": "code",
   "execution_count": 20,
   "metadata": {},
   "outputs": [
    {
     "name": "stdout",
     "output_type": "stream",
     "text": [
      "Train Shape: (8689, 14)\n",
      "Validation Shape: (4345, 14)\n",
      "Test shape: (4345, 14)\n"
     ]
    }
   ],
   "source": [
    "X_train, X_test, y_train, y_test = train_test_split(X_scaled,y,test_size=.5)\n",
    "X_val,X_test, y_val,y_test = train_test_split(X_test,y_test,test_size=0.5)\n",
    "print(f'Train Shape: {X_train.shape}')\n",
    "print(f'Validation Shape: {X_val.shape}')\n",
    "print(f'Test shape: {X_test.shape}')"
   ]
  },
  {
   "cell_type": "markdown",
   "metadata": {},
   "source": [
    "## Create EKF network "
   ]
  },
  {
   "cell_type": "code",
   "execution_count": 21,
   "metadata": {},
   "outputs": [],
   "source": [
    "n_inputs = X_train.shape[1]\n",
    "\n",
    "knn_ekf = kalmann.KNN(nu=n_inputs, ny=1, nl=10, neuron='relu')\n"
   ]
  },
  {
   "cell_type": "code",
   "execution_count": 22,
   "metadata": {},
   "outputs": [
    {
     "name": "stdout",
     "output_type": "stream",
     "text": [
      "Training...\n"
     ]
    },
    {
     "name": "stderr",
     "output_type": "stream",
     "text": [
      "\n",
      "\n",
      "\n",
      "  0%|                                                                                          | 0/100 [00:00<?, ?it/s]\n",
      "\n",
      "\n",
      "Epoch: 1 Rms Error: 2.940e+02:   0%|                                                           | 0/100 [00:00<?, ?it/s]\n",
      "\n",
      "\n",
      "Epoch: 1 Rms Error: 2.940e+02:   1%|▌                                                  | 1/100 [00:02<03:33,  2.16s/it]\n",
      "\n",
      "\n",
      "Epoch: 2 Rms Error: 1.331e-01:   1%|▌                                                  | 1/100 [00:02<03:33,  2.16s/it]\n",
      "\n",
      "\n",
      "Epoch: 2 Rms Error: 1.331e-01:   2%|█                                                  | 2/100 [00:04<03:34,  2.19s/it]\n",
      "\n",
      "\n",
      "Epoch: 3 Rms Error: 8.582e-02:   2%|█                                                  | 2/100 [00:04<03:34,  2.19s/it]\n",
      "\n",
      "\n",
      "Epoch: 3 Rms Error: 8.582e-02:   3%|█▌                                                 | 3/100 [00:06<03:32,  2.19s/it]\n",
      "\n",
      "\n",
      "Epoch: 4 Rms Error: 6.735e-02:   3%|█▌                                                 | 3/100 [00:06<03:32,  2.19s/it]\n",
      "\n",
      "\n",
      "Epoch: 4 Rms Error: 6.735e-02:   4%|██                                                 | 4/100 [00:08<03:28,  2.17s/it]\n",
      "\n",
      "\n",
      "Epoch: 5 Rms Error: 5.606e-02:   4%|██                                                 | 4/100 [00:08<03:28,  2.17s/it]\n",
      "\n",
      "\n",
      "Epoch: 5 Rms Error: 5.606e-02:   5%|██▌                                                | 5/100 [00:10<03:24,  2.16s/it]\n",
      "\n",
      "\n",
      "Epoch: 6 Rms Error: 4.920e-02:   5%|██▌                                                | 5/100 [00:10<03:24,  2.16s/it]\n",
      "\n",
      "\n",
      "Epoch: 6 Rms Error: 4.920e-02:   6%|███                                                | 6/100 [00:12<03:21,  2.14s/it]\n",
      "\n",
      "\n",
      "Epoch: 7 Rms Error: 4.325e-02:   6%|███                                                | 6/100 [00:12<03:21,  2.14s/it]\n",
      "\n",
      "\n",
      "Epoch: 7 Rms Error: 4.325e-02:   7%|███▌                                               | 7/100 [00:15<03:19,  2.14s/it]\n",
      "\n",
      "\n",
      "Epoch: 8 Rms Error: 3.979e-02:   7%|███▌                                               | 7/100 [00:15<03:19,  2.14s/it]\n",
      "\n",
      "\n",
      "Epoch: 8 Rms Error: 3.979e-02:   8%|████                                               | 8/100 [00:17<03:19,  2.17s/it]\n",
      "\n",
      "\n",
      "Epoch: 9 Rms Error: 3.729e-02:   8%|████                                               | 8/100 [00:17<03:19,  2.17s/it]\n",
      "\n",
      "\n",
      "Epoch: 9 Rms Error: 3.729e-02:   9%|████▌                                              | 9/100 [00:19<03:15,  2.15s/it]\n",
      "\n",
      "\n",
      "Epoch: 10 Rms Error: 3.562e-02:   9%|████▌                                             | 9/100 [00:19<03:15,  2.15s/it]\n",
      "\n",
      "\n",
      "Epoch: 10 Rms Error: 3.562e-02:  10%|████▉                                            | 10/100 [00:21<03:11,  2.13s/it]\n",
      "\n",
      "\n",
      "Epoch: 11 Rms Error: 3.444e-02:  10%|████▉                                            | 10/100 [00:21<03:11,  2.13s/it]\n",
      "\n",
      "\n",
      "Epoch: 11 Rms Error: 3.444e-02:  11%|█████▍                                           | 11/100 [00:23<03:08,  2.12s/it]\n",
      "\n",
      "\n",
      "Epoch: 12 Rms Error: 3.350e-02:  11%|█████▍                                           | 11/100 [00:23<03:08,  2.12s/it]\n",
      "\n",
      "\n",
      "Epoch: 12 Rms Error: 3.350e-02:  12%|█████▉                                           | 12/100 [00:25<03:05,  2.11s/it]\n",
      "\n",
      "\n",
      "Epoch: 13 Rms Error: 3.282e-02:  12%|█████▉                                           | 12/100 [00:25<03:05,  2.11s/it]\n",
      "\n",
      "\n",
      "Epoch: 13 Rms Error: 3.282e-02:  13%|██████▎                                          | 13/100 [00:27<03:05,  2.14s/it]\n",
      "\n",
      "\n",
      "Epoch: 14 Rms Error: 3.235e-02:  13%|██████▎                                          | 13/100 [00:27<03:05,  2.14s/it]\n",
      "\n",
      "\n",
      "Epoch: 14 Rms Error: 3.235e-02:  14%|██████▊                                          | 14/100 [00:30<03:04,  2.15s/it]\n",
      "\n",
      "\n",
      "Epoch: 15 Rms Error: 3.216e-02:  14%|██████▊                                          | 14/100 [00:30<03:04,  2.15s/it]\n",
      "\n",
      "\n",
      "Epoch: 15 Rms Error: 3.216e-02:  15%|███████▎                                         | 15/100 [00:32<03:03,  2.16s/it]\n",
      "\n",
      "\n",
      "Epoch: 16 Rms Error: 3.164e-02:  15%|███████▎                                         | 15/100 [00:32<03:03,  2.16s/it]\n",
      "\n",
      "\n",
      "Epoch: 16 Rms Error: 3.164e-02:  16%|███████▊                                         | 16/100 [00:34<02:59,  2.14s/it]\n",
      "\n",
      "\n",
      "Epoch: 17 Rms Error: 3.142e-02:  16%|███████▊                                         | 16/100 [00:34<02:59,  2.14s/it]\n",
      "\n",
      "\n",
      "Epoch: 17 Rms Error: 3.142e-02:  17%|████████▎                                        | 17/100 [00:36<02:58,  2.15s/it]\n",
      "\n",
      "\n",
      "Epoch: 18 Rms Error: 3.121e-02:  17%|████████▎                                        | 17/100 [00:36<02:58,  2.15s/it]\n",
      "\n",
      "\n",
      "Epoch: 18 Rms Error: 3.121e-02:  18%|████████▊                                        | 18/100 [00:38<02:58,  2.17s/it]\n",
      "\n",
      "\n",
      "Epoch: 19 Rms Error: 3.107e-02:  18%|████████▊                                        | 18/100 [00:38<02:58,  2.17s/it]\n",
      "\n",
      "\n",
      "Epoch: 19 Rms Error: 3.107e-02:  19%|█████████▎                                       | 19/100 [00:41<03:00,  2.23s/it]\n",
      "\n",
      "\n",
      "Epoch: 20 Rms Error: 3.096e-02:  19%|█████████▎                                       | 19/100 [00:41<03:00,  2.23s/it]\n",
      "\n",
      "\n",
      "Epoch: 20 Rms Error: 3.096e-02:  20%|█████████▊                                       | 20/100 [00:43<02:54,  2.18s/it]\n",
      "\n",
      "\n",
      "Epoch: 21 Rms Error: 3.085e-02:  20%|█████████▊                                       | 20/100 [00:43<02:54,  2.18s/it]\n",
      "\n",
      "\n",
      "Epoch: 21 Rms Error: 3.085e-02:  21%|██████████▎                                      | 21/100 [00:45<02:52,  2.18s/it]\n",
      "\n",
      "\n",
      "Epoch: 22 Rms Error: 3.077e-02:  21%|██████████▎                                      | 21/100 [00:45<02:52,  2.18s/it]\n",
      "\n",
      "\n",
      "Epoch: 22 Rms Error: 3.077e-02:  22%|██████████▊                                      | 22/100 [00:47<02:50,  2.19s/it]\n",
      "\n",
      "\n",
      "Epoch: 23 Rms Error: 3.068e-02:  22%|██████████▊                                      | 22/100 [00:47<02:50,  2.19s/it]\n",
      "\n",
      "\n",
      "Epoch: 23 Rms Error: 3.068e-02:  23%|███████████▎                                     | 23/100 [00:49<02:50,  2.22s/it]\n",
      "\n",
      "\n",
      "Epoch: 24 Rms Error: 3.062e-02:  23%|███████████▎                                     | 23/100 [00:49<02:50,  2.22s/it]\n",
      "\n",
      "\n",
      "Epoch: 24 Rms Error: 3.062e-02:  24%|███████████▊                                     | 24/100 [00:52<02:47,  2.21s/it]\n",
      "\n",
      "\n",
      "Epoch: 25 Rms Error: 3.056e-02:  24%|███████████▊                                     | 24/100 [00:52<02:47,  2.21s/it]\n",
      "\n",
      "\n",
      "Epoch: 25 Rms Error: 3.056e-02:  25%|████████████▎                                    | 25/100 [00:54<02:45,  2.21s/it]\n",
      "\n",
      "\n",
      "Epoch: 26 Rms Error: 3.059e-02:  25%|████████████▎                                    | 25/100 [00:54<02:45,  2.21s/it]\n",
      "\n",
      "\n",
      "Epoch: 26 Rms Error: 3.059e-02:  26%|████████████▋                                    | 26/100 [00:56<02:42,  2.20s/it]\n",
      "\n",
      "\n",
      "Epoch: 27 Rms Error: 3.046e-02:  26%|████████████▋                                    | 26/100 [00:56<02:42,  2.20s/it]"
     ]
    },
    {
     "name": "stdout",
     "output_type": "stream",
     "text": [
      "\n",
      "Converged after 27 epochs!\n",
      "\n",
      "\n"
     ]
    }
   ],
   "source": [
    "nepochs = 100\n",
    "tolerance = 1e-4\n",
    "patience = 20\n",
    "RMS,_=knn_ekf.train(nepochs=nepochs, U=X_train, Y=y_train, \n",
    "                    U_val=X_val,Y_val=y_val, method='ekf', \n",
    "                    P=100, Q=10e-6, R=10,\n",
    "                    tolerance=tolerance,patience=patience)\n"
   ]
  },
  {
   "cell_type": "code",
   "execution_count": 23,
   "metadata": {},
   "outputs": [
    {
     "data": {
      "text/plain": [
       "0.03046291983243491"
      ]
     },
     "execution_count": 23,
     "metadata": {},
     "output_type": "execute_result"
    }
   ],
   "source": [
    "RMS[-1]"
   ]
  },
  {
   "cell_type": "code",
   "execution_count": 28,
   "metadata": {},
   "outputs": [
    {
     "data": {
      "text/plain": [
       "0.029132270271650718"
      ]
     },
     "execution_count": 28,
     "metadata": {},
     "output_type": "execute_result"
    }
   ],
   "source": [
    "y_pred= knn_ekf.feedforward(X_test)\n",
    "error = mean_squared_error(y_test,y_pred)\n",
    "np.sqrt(error)"
   ]
  },
  {
   "cell_type": "markdown",
   "metadata": {},
   "source": [
    "## Plotting RMS decrease"
   ]
  },
  {
   "cell_type": "code",
   "execution_count": 25,
   "metadata": {},
   "outputs": [
    {
     "data": {
      "image/png": "[encoded data removed]",
      "text/plain": [
       "<Figure size 900x600 with 1 Axes>"
      ]
     },
     "metadata": {
      "needs_background": "light"
     },
     "output_type": "display_data"
    }
   ],
   "source": [
    "plt.plot(range(len(RMS)),RMS,label=\"Vaidation Error\")\n",
    "plt.xlabel(\"Epochs\")\n",
    "plt.legend()\n",
    "plt.yscale('log')"
   ]
  },
  {
   "cell_type": "markdown",
   "metadata": {},
   "source": [
    "## Save file "
   ]
  },
  {
   "cell_type": "code",
   "execution_count": 11,
   "metadata": {},
   "outputs": [],
   "source": [
    "# knn_ekf.save(\"saved_models/efk_nn_relu_P_100_Q_10e-6_R_10\")"
   ]
  }
 ],
 "metadata": {
  "kernelspec": {
   "display_name": "Pytorch",
   "language": "python",
   "name": "torch"
  },
  "language_info": {
   "codemirror_mode": {
    "name": "ipython",
    "version": 3
   },
   "file_extension": ".py",
   "mimetype": "text/x-python",
   "name": "python",
   "nbconvert_exporter": "python",
   "pygments_lexer": "ipython3",
   "version": "3.6.8"
  }
 },
 "nbformat": 4,
 "nbformat_minor": 2
}
