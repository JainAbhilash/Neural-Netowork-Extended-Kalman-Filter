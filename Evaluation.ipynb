{
 "cells": [
  {
   "cell_type": "markdown",
   "metadata": {},
   "source": [
    "# Evaluate a pre-trained EKF model"
   ]
  },
  {
   "cell_type": "markdown",
   "metadata": {},
   "source": [
    "In this section we will show the (best)test error for the three datasets using a pretrained model "
   ]
  },
  {
   "cell_type": "code",
   "execution_count": 1,
   "metadata": {},
   "outputs": [],
   "source": [
    "from load import load_bikes_data,load_abalone_data,load_wine_data\n",
    "from sklearn.metrics import mean_absolute_error,mean_squared_error\n",
    "from sklearn.preprocessing import MinMaxScaler\n",
    "import knn as kalman\n",
    "import numpy as np\n",
    "import torch\n",
    "import torch.nn as nn\n",
    "import torch.nn.functional as F\n",
    "import knn as kalman\n",
    "import matplotlib.pyplot as plt\n",
    "import matplotlib as mpl\n",
    "mpl.rcParams['figure.dpi']=150"
   ]
  },
  {
   "cell_type": "code",
   "execution_count": 2,
   "metadata": {},
   "outputs": [],
   "source": [
    "scaler = MinMaxScaler()\n",
    "def evaluate(mlp,X,y):\n",
    "    with torch.no_grad():\n",
    "        x_test = torch.tensor(X_scaled, dtype=torch.float64)\n",
    "        y_pred = mlp.forward(x_test)\n",
    "        y_pred = y_pred.cpu().data.numpy()\n",
    "        error = mean_squared_error(y,y_pred)\n",
    "        return (np.sqrt(error))\n",
    "class MLP(nn.Module):\n",
    "    def __init__(self, n_inputs, n_hidden_layer, n_outputs,bias=True):\n",
    "        super(MLP, self).__init__()\n",
    "        # YOUR CODE HERE\n",
    "        #raise NotImplementedError()\n",
    "        self.fc1 = nn.Linear(n_inputs, n_hidden_layer, bias)\n",
    "        self.fc2 = nn.Linear(n_hidden_layer, n_hidden_layer, bias)\n",
    "        #self.fc3 = nn.Linear(n_hidden_layer, n_hidden_layer, bias)\n",
    "        self.fc4 = nn.Linear(n_hidden_layer, n_outputs, bias)\n",
    "        \n",
    "\n",
    "    def forward(self, x):\n",
    "        # YOUR CODE HERE\n",
    "        #raise NotImplementedError()\n",
    "        x = torch.relu(self.fc1(x))\n",
    "        x = torch.relu(self.fc2(x))\n",
    "        #x = torch.relu(self.fc3(x))\n",
    "        x = self.fc4(x)\n",
    "        return x   "
   ]
  },
  {
   "cell_type": "markdown",
   "metadata": {},
   "source": [
    "## Abalone Dataset"
   ]
  },
  {
   "cell_type": "code",
   "execution_count": 3,
   "metadata": {},
   "outputs": [],
   "source": [
    "X,y = load_abalone_data() \n",
    "X_scaled = scaler.fit_transform(X)"
   ]
  },
  {
   "cell_type": "markdown",
   "metadata": {},
   "source": [
    "### EKF "
   ]
  },
  {
   "cell_type": "code",
   "execution_count": 4,
   "metadata": {},
   "outputs": [],
   "source": [
    "abalone_ekf = kalman.load_knn('saved_models/abalone/efk_sigmoid_1.983.knn')"
   ]
  },
  {
   "cell_type": "code",
   "execution_count": 5,
   "metadata": {},
   "outputs": [
    {
     "name": "stdout",
     "output_type": "stream",
     "text": [
      "The total error for the model is 2.048454\n"
     ]
    }
   ],
   "source": [
    "y_pred = abalone_ekf.feedforward(X_scaled)\n",
    "error = mean_squared_error(y,y_pred)\n",
    "error_ekf = np.sqrt(error)\n",
    "print(f\"The total error for the model is {error_ekf:.6f}\")"
   ]
  },
  {
   "cell_type": "markdown",
   "metadata": {},
   "source": [
    "### SGD"
   ]
  },
  {
   "cell_type": "code",
   "execution_count": 6,
   "metadata": {},
   "outputs": [
    {
     "name": "stdout",
     "output_type": "stream",
     "text": [
      "The total error for the model is 2.109905\n"
     ]
    }
   ],
   "source": [
    "mlp_1_10 = torch.load(\"saved_models/abalone/sgd_1_10_epochs_2305.pt\")\n",
    "error_sgd_10 = evaluate(mlp_1_10,X_scaled,y)\n",
    "print(f\"The total error for the model is {error_sgd_10:.6f}\")"
   ]
  },
  {
   "cell_type": "code",
   "execution_count": 7,
   "metadata": {},
   "outputs": [
    {
     "name": "stdout",
     "output_type": "stream",
     "text": [
      "The total error for the model is 2.145371\n"
     ]
    }
   ],
   "source": [
    "mlp_1_20 = torch.load(\"saved_models/abalone/sgd_1_20_epochs_2000.pt\")\n",
    "error_sgd_20 = evaluate(mlp_1_20,X_scaled,y)\n",
    "print(f\"The total error for the model is {error_sgd_20:.6f}\")"
   ]
  },
  {
   "cell_type": "code",
   "execution_count": 8,
   "metadata": {},
   "outputs": [
    {
     "data": {
      "image/png": "[encoded data removed]",
      "text/plain": [
       "<Figure size 432x288 with 1 Axes>"
      ]
     },
     "metadata": {
      "needs_background": "light"
     },
     "output_type": "display_data"
    }
   ],
   "source": [
    "plt.bar(['EKF',\"SGD 10\",\"SGD 20\"],[error_ekf,error_sgd_10,error_sgd_20],log=True)\n",
    "plt.ylabel('Error(in log scale)')\n",
    "plt.title(\"Error difference in Abalone Dataset\")\n",
    "\n",
    "plt.show()"
   ]
  },
  {
   "cell_type": "markdown",
   "metadata": {},
   "source": [
    "## Bikes Dataset"
   ]
  },
  {
   "cell_type": "markdown",
   "metadata": {},
   "source": [
    "### EKF"
   ]
  },
  {
   "cell_type": "code",
   "execution_count": 9,
   "metadata": {},
   "outputs": [],
   "source": [
    "X,y = load_bikes_data() \n",
    "X_scaled = scaler.fit_transform(X)"
   ]
  },
  {
   "cell_type": "code",
   "execution_count": 10,
   "metadata": {},
   "outputs": [],
   "source": [
    "bikes_ekf = kalman.load_knn('saved_models/bikes/efk_val_7.7e-4.knn')"
   ]
  },
  {
   "cell_type": "code",
   "execution_count": 12,
   "metadata": {},
   "outputs": [
    {
     "name": "stdout",
     "output_type": "stream",
     "text": [
      "The total error for the model is 0.000388937 after 20 epochs\n"
     ]
    }
   ],
   "source": [
    "y_pred = bikes_ekf.feedforward(X_scaled)\n",
    "error = mean_squared_error(y,y_pred)\n",
    "error_ekf = np.sqrt(error)\n",
    "print(f\"The total error for the model is {error_ekf:.6} after 20 epochs\")"
   ]
  },
  {
   "cell_type": "markdown",
   "metadata": {},
   "source": [
    "### SGD"
   ]
  },
  {
   "cell_type": "code",
   "execution_count": 13,
   "metadata": {},
   "outputs": [
    {
     "name": "stdout",
     "output_type": "stream",
     "text": [
      "The total error for the model is 0.073246 after 5000 epochs\n"
     ]
    }
   ],
   "source": [
    "mlp_1_10 = torch.load(\"saved_models/bikes/sgd_1_10_epochs_5000.pt\")\n",
    "error_sgd_10 = evaluate(mlp_1_10,X_scaled,y)\n",
    "print(f\"The total error for the model is {error_sgd_10:.6f} after 5000 epochs\")"
   ]
  },
  {
   "cell_type": "code",
   "execution_count": 14,
   "metadata": {},
   "outputs": [
    {
     "name": "stdout",
     "output_type": "stream",
     "text": [
      "The total error for the model is 0.059866 after 8000 epochs\n"
     ]
    }
   ],
   "source": [
    "mlp_1_20 = torch.load(\"saved_models/bikes/sgd_1_20_epochs_8000.pt\")\n",
    "error_sgd_20 = evaluate(mlp_1_20,X_scaled,y)\n",
    "print(f\"The total error for the model is {error_sgd_20:.6f} after 8000 epochs\")"
   ]
  },
  {
   "cell_type": "code",
   "execution_count": 15,
   "metadata": {},
   "outputs": [
    {
     "data": {
      "image/png": "[encoded data removed]",
      "text/plain": [
       "<Figure size 432x288 with 1 Axes>"
      ]
     },
     "metadata": {
      "needs_background": "light"
     },
     "output_type": "display_data"
    }
   ],
   "source": [
    "plt.bar(['EKF',\"SGD 10\",\"SGD 20\"],[error_ekf,error_sgd_10,error_sgd_20],log=True)\n",
    "plt.ylabel('Error(in log scale)')\n",
    "plt.title(\"Error difference in Bike Sharing Dataset\")\n",
    "plt.show()"
   ]
  },
  {
   "cell_type": "markdown",
   "metadata": {},
   "source": [
    "## Wine Quality Dataset"
   ]
  },
  {
   "cell_type": "code",
   "execution_count": 16,
   "metadata": {},
   "outputs": [],
   "source": [
    "X,y = load_wine_data() \n",
    "X_scaled = scaler.fit_transform(X)"
   ]
  },
  {
   "cell_type": "code",
   "execution_count": 17,
   "metadata": {},
   "outputs": [],
   "source": [
    "wine_ekf = kalman.load_knn('saved_models/winequality/efk.knn')"
   ]
  },
  {
   "cell_type": "code",
   "execution_count": 18,
   "metadata": {},
   "outputs": [
    {
     "name": "stdout",
     "output_type": "stream",
     "text": [
      "The total error for the model is 0.707596\n"
     ]
    }
   ],
   "source": [
    "y_pred = wine_ekf.feedforward(X_scaled)\n",
    "error = mean_squared_error(y,y_pred)\n",
    "test_error = np.sqrt(error)\n",
    "print(f\"The total error for the model is {test_error:.6}\")"
   ]
  },
  {
   "cell_type": "code",
   "execution_count": null,
   "metadata": {},
   "outputs": [],
   "source": []
  }
 ],
 "metadata": {
  "kernelspec": {
   "display_name": "Pytorch",
   "language": "python",
   "name": "torch"
  },
  "language_info": {
   "codemirror_mode": {
    "name": "ipython",
    "version": 3
   },
   "file_extension": ".py",
   "mimetype": "text/x-python",
   "name": "python",
   "nbconvert_exporter": "python",
   "pygments_lexer": "ipython3",
   "version": "3.6.8"
  }
 },
 "nbformat": 4,
 "nbformat_minor": 2
}
